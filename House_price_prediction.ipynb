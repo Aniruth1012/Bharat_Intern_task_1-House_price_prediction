{
  "nbformat": 4,
  "nbformat_minor": 0,
  "metadata": {
    "colab": {
      "provenance": []
    },
    "kernelspec": {
      "name": "python3",
      "display_name": "Python 3"
    },
    "language_info": {
      "name": "python"
    }
  },
  "cells": [
    {
      "cell_type": "markdown",
      "source": [
        "Importing the libraries"
      ],
      "metadata": {
        "id": "1JSC3SOW0WgR"
      }
    },
    {
      "cell_type": "code",
      "execution_count": 1,
      "metadata": {
        "id": "yj032pkc0CjL"
      },
      "outputs": [],
      "source": [
        "import numpy as np\n",
        "import pandas as pd\n",
        "import matplotlib.pyplot as plt"
      ]
    },
    {
      "cell_type": "markdown",
      "source": [
        "Importing the dataset"
      ],
      "metadata": {
        "id": "lT7-Bs-p0fzc"
      }
    },
    {
      "cell_type": "code",
      "source": [
        "dataset=pd.read_csv('Housing.csv')\n",
        "shift=dataset.pop('parking')\n",
        "dataset.insert(2, 'parking', shift)\n",
        "Y=dataset.iloc[:,0].values\n",
        "X=dataset.iloc[:,1:].values"
      ],
      "metadata": {
        "id": "-Z6CNRyg0hM6"
      },
      "execution_count": 2,
      "outputs": []
    },
    {
      "cell_type": "markdown",
      "source": [
        "Checking NULL values"
      ],
      "metadata": {
        "id": "1YTp4CDy0ooB"
      }
    },
    {
      "cell_type": "code",
      "source": [
        "if dataset.isnull().any().any():\n",
        "  print('true')"
      ],
      "metadata": {
        "id": "MT_JIs6K0s7j"
      },
      "execution_count": 3,
      "outputs": []
    },
    {
      "cell_type": "markdown",
      "source": [
        "Encoding the Categorical Values using Label Encoder"
      ],
      "metadata": {
        "id": "c6kknEdK0uTk"
      }
    },
    {
      "cell_type": "code",
      "source": [
        "from sklearn.preprocessing import LabelEncoder\n",
        "le=LabelEncoder()\n",
        "X[:,9]=le.fit_transform(X[:,9])\n",
        "le1=LabelEncoder()\n",
        "X[:,5]=le1.fit_transform(X[:,5])\n",
        "le2=LabelEncoder()\n",
        "X[:,6]=le2.fit_transform(X[:,6])\n",
        "le3=LabelEncoder()\n",
        "X[:,7]=le3.fit_transform(X[:,7])\n",
        "le4=LabelEncoder()\n",
        "X[:,8]=le4.fit_transform(X[:,8])\n",
        "le5=LabelEncoder()\n",
        "X[:,10]=le5.fit_transform(X[:,10])"
      ],
      "metadata": {
        "id": "h5vlvgoZ1a2e"
      },
      "execution_count": 4,
      "outputs": []
    },
    {
      "cell_type": "markdown",
      "source": [
        "Encoding the Categorical variabels using OneHOTEncoding"
      ],
      "metadata": {
        "id": "dZVCTrVP3JjP"
      }
    },
    {
      "cell_type": "code",
      "source": [
        "from sklearn.preprocessing import OneHotEncoder\n",
        "from sklearn.compose import ColumnTransformer\n",
        "ct=ColumnTransformer(transformers=[('encoder',OneHotEncoder(),[11])],remainder='passthrough')\n",
        "X=np.array(ct.fit_transform(X))"
      ],
      "metadata": {
        "id": "Zic69NXF3NnS"
      },
      "execution_count": 5,
      "outputs": []
    },
    {
      "cell_type": "markdown",
      "source": [
        "Printing the Header for cross checks"
      ],
      "metadata": {
        "id": "TNu4q-Ux3DjC"
      }
    },
    {
      "cell_type": "code",
      "source": [
        "print(X[:15,])"
      ],
      "metadata": {
        "id": "sfdr7CvK1xpA",
        "colab": {
          "base_uri": "https://localhost:8080/"
        },
        "outputId": "d2748618-6525-4acf-98b8-b90fe0fd2671"
      },
      "execution_count": 6,
      "outputs": [
        {
          "output_type": "stream",
          "name": "stdout",
          "text": [
            "[[1.0 0.0 0.0 7420 2 4 2 3 1 0 0 0 1 1]\n",
            " [1.0 0.0 0.0 8960 3 4 4 4 1 0 0 0 1 0]\n",
            " [0.0 1.0 0.0 9960 2 3 2 2 1 0 1 0 0 1]\n",
            " [1.0 0.0 0.0 7500 3 4 2 2 1 0 1 0 1 1]\n",
            " [1.0 0.0 0.0 7420 2 4 1 2 1 1 1 0 1 0]\n",
            " [0.0 1.0 0.0 7500 2 3 3 1 1 0 1 0 1 1]\n",
            " [0.0 1.0 0.0 8580 2 4 3 4 1 0 0 0 1 1]\n",
            " [0.0 0.0 1.0 16200 0 5 3 2 1 0 0 0 0 0]\n",
            " [1.0 0.0 0.0 8100 2 4 1 2 1 1 1 0 1 1]\n",
            " [0.0 0.0 1.0 5750 1 3 2 4 1 1 0 0 1 1]\n",
            " [1.0 0.0 0.0 13200 2 3 1 2 1 0 1 0 1 1]\n",
            " [0.0 1.0 0.0 6000 2 4 3 2 1 1 1 1 0 0]\n",
            " [0.0 1.0 0.0 6550 1 4 2 2 1 0 0 0 1 1]\n",
            " [1.0 0.0 0.0 3500 2 4 2 2 1 0 0 1 0 0]\n",
            " [0.0 1.0 0.0 7800 0 3 2 2 1 0 0 0 0 1]]\n"
          ]
        }
      ]
    },
    {
      "cell_type": "markdown",
      "source": [
        "NOTE : Furnishing status has came to the start on ONEHOTENCODING"
      ],
      "metadata": {
        "id": "R55huSPw8jKN"
      }
    },
    {
      "cell_type": "markdown",
      "source": [
        "Splitting the Dataset into Training and Test Set"
      ],
      "metadata": {
        "id": "lTKBle438tfU"
      }
    },
    {
      "cell_type": "code",
      "source": [
        "from sklearn.model_selection import train_test_split\n",
        "X_train,X_test,Y_train,Y_test=train_test_split(X,Y,test_size=0.3,random_state=0)"
      ],
      "metadata": {
        "id": "hxBHdFG9prva"
      },
      "execution_count": 7,
      "outputs": []
    },
    {
      "cell_type": "code",
      "source": [
        "print(X_train)"
      ],
      "metadata": {
        "colab": {
          "base_uri": "https://localhost:8080/"
        },
        "id": "8v70KsZbXTDQ",
        "outputId": "8d263f32-a86e-4822-e233-19c86c62f864"
      },
      "execution_count": 8,
      "outputs": [
        {
          "output_type": "stream",
          "name": "stdout",
          "text": [
            "[[0.0 0.0 1.0 ... 0 1 0]\n",
            " [0.0 1.0 0.0 ... 0 0 0]\n",
            " [0.0 1.0 0.0 ... 0 0 1]\n",
            " ...\n",
            " [0.0 0.0 1.0 ... 0 1 1]\n",
            " [0.0 0.0 1.0 ... 0 0 0]\n",
            " [1.0 0.0 0.0 ... 0 0 1]]\n"
          ]
        }
      ]
    },
    {
      "cell_type": "code",
      "source": [
        "print(X_test)"
      ],
      "metadata": {
        "colab": {
          "base_uri": "https://localhost:8080/"
        },
        "id": "7u1Urt0FkRyw",
        "outputId": "502d39c3-de1a-434b-f6ad-a6e4d153c16f"
      },
      "execution_count": 9,
      "outputs": [
        {
          "output_type": "stream",
          "name": "stdout",
          "text": [
            "[[1.0 0.0 0.0 ... 0 0 0]\n",
            " [1.0 0.0 0.0 ... 0 0 1]\n",
            " [0.0 1.0 0.0 ... 0 1 0]\n",
            " ...\n",
            " [0.0 0.0 1.0 ... 0 0 0]\n",
            " [0.0 0.0 1.0 ... 0 1 1]\n",
            " [0.0 0.0 1.0 ... 0 1 0]]\n"
          ]
        }
      ]
    },
    {
      "cell_type": "markdown",
      "source": [
        "Feature Scaling"
      ],
      "metadata": {
        "id": "9T9tX2n5zIeb"
      }
    },
    {
      "cell_type": "code",
      "source": [
        "from sklearn.preprocessing import StandardScaler\n",
        "sc=StandardScaler()\n",
        "sc_y=StandardScaler()\n",
        "X_train[:,3:8]=sc.fit_transform(X_train[:,3:8])\n",
        "Y_train=sc_y.fit_transform(Y_train.reshape(-1,1))"
      ],
      "metadata": {
        "id": "as2e-i_-zJnb"
      },
      "execution_count": 10,
      "outputs": []
    },
    {
      "cell_type": "markdown",
      "source": [
        "Training the Multiple Linear Regression model on training Set"
      ],
      "metadata": {
        "id": "N16DydpCqftn"
      }
    },
    {
      "cell_type": "code",
      "source": [
        "from sklearn.linear_model import LinearRegression\n",
        "regressor=LinearRegression()\n",
        "regressor.fit(X_train,Y_train)"
      ],
      "metadata": {
        "colab": {
          "base_uri": "https://localhost:8080/",
          "height": 74
        },
        "id": "kwC2iqx6s-Dc",
        "outputId": "b153ebf7-251d-4072-81e0-55d2c9ef729b"
      },
      "execution_count": 11,
      "outputs": [
        {
          "output_type": "execute_result",
          "data": {
            "text/plain": [
              "LinearRegression()"
            ],
            "text/html": [
              "<style>#sk-container-id-1 {color: black;background-color: white;}#sk-container-id-1 pre{padding: 0;}#sk-container-id-1 div.sk-toggleable {background-color: white;}#sk-container-id-1 label.sk-toggleable__label {cursor: pointer;display: block;width: 100%;margin-bottom: 0;padding: 0.3em;box-sizing: border-box;text-align: center;}#sk-container-id-1 label.sk-toggleable__label-arrow:before {content: \"▸\";float: left;margin-right: 0.25em;color: #696969;}#sk-container-id-1 label.sk-toggleable__label-arrow:hover:before {color: black;}#sk-container-id-1 div.sk-estimator:hover label.sk-toggleable__label-arrow:before {color: black;}#sk-container-id-1 div.sk-toggleable__content {max-height: 0;max-width: 0;overflow: hidden;text-align: left;background-color: #f0f8ff;}#sk-container-id-1 div.sk-toggleable__content pre {margin: 0.2em;color: black;border-radius: 0.25em;background-color: #f0f8ff;}#sk-container-id-1 input.sk-toggleable__control:checked~div.sk-toggleable__content {max-height: 200px;max-width: 100%;overflow: auto;}#sk-container-id-1 input.sk-toggleable__control:checked~label.sk-toggleable__label-arrow:before {content: \"▾\";}#sk-container-id-1 div.sk-estimator input.sk-toggleable__control:checked~label.sk-toggleable__label {background-color: #d4ebff;}#sk-container-id-1 div.sk-label input.sk-toggleable__control:checked~label.sk-toggleable__label {background-color: #d4ebff;}#sk-container-id-1 input.sk-hidden--visually {border: 0;clip: rect(1px 1px 1px 1px);clip: rect(1px, 1px, 1px, 1px);height: 1px;margin: -1px;overflow: hidden;padding: 0;position: absolute;width: 1px;}#sk-container-id-1 div.sk-estimator {font-family: monospace;background-color: #f0f8ff;border: 1px dotted black;border-radius: 0.25em;box-sizing: border-box;margin-bottom: 0.5em;}#sk-container-id-1 div.sk-estimator:hover {background-color: #d4ebff;}#sk-container-id-1 div.sk-parallel-item::after {content: \"\";width: 100%;border-bottom: 1px solid gray;flex-grow: 1;}#sk-container-id-1 div.sk-label:hover label.sk-toggleable__label {background-color: #d4ebff;}#sk-container-id-1 div.sk-serial::before {content: \"\";position: absolute;border-left: 1px solid gray;box-sizing: border-box;top: 0;bottom: 0;left: 50%;z-index: 0;}#sk-container-id-1 div.sk-serial {display: flex;flex-direction: column;align-items: center;background-color: white;padding-right: 0.2em;padding-left: 0.2em;position: relative;}#sk-container-id-1 div.sk-item {position: relative;z-index: 1;}#sk-container-id-1 div.sk-parallel {display: flex;align-items: stretch;justify-content: center;background-color: white;position: relative;}#sk-container-id-1 div.sk-item::before, #sk-container-id-1 div.sk-parallel-item::before {content: \"\";position: absolute;border-left: 1px solid gray;box-sizing: border-box;top: 0;bottom: 0;left: 50%;z-index: -1;}#sk-container-id-1 div.sk-parallel-item {display: flex;flex-direction: column;z-index: 1;position: relative;background-color: white;}#sk-container-id-1 div.sk-parallel-item:first-child::after {align-self: flex-end;width: 50%;}#sk-container-id-1 div.sk-parallel-item:last-child::after {align-self: flex-start;width: 50%;}#sk-container-id-1 div.sk-parallel-item:only-child::after {width: 0;}#sk-container-id-1 div.sk-dashed-wrapped {border: 1px dashed gray;margin: 0 0.4em 0.5em 0.4em;box-sizing: border-box;padding-bottom: 0.4em;background-color: white;}#sk-container-id-1 div.sk-label label {font-family: monospace;font-weight: bold;display: inline-block;line-height: 1.2em;}#sk-container-id-1 div.sk-label-container {text-align: center;}#sk-container-id-1 div.sk-container {/* jupyter's `normalize.less` sets `[hidden] { display: none; }` but bootstrap.min.css set `[hidden] { display: none !important; }` so we also need the `!important` here to be able to override the default hidden behavior on the sphinx rendered scikit-learn.org. See: https://github.com/scikit-learn/scikit-learn/issues/21755 */display: inline-block !important;position: relative;}#sk-container-id-1 div.sk-text-repr-fallback {display: none;}</style><div id=\"sk-container-id-1\" class=\"sk-top-container\"><div class=\"sk-text-repr-fallback\"><pre>LinearRegression()</pre><b>In a Jupyter environment, please rerun this cell to show the HTML representation or trust the notebook. <br />On GitHub, the HTML representation is unable to render, please try loading this page with nbviewer.org.</b></div><div class=\"sk-container\" hidden><div class=\"sk-item\"><div class=\"sk-estimator sk-toggleable\"><input class=\"sk-toggleable__control sk-hidden--visually\" id=\"sk-estimator-id-1\" type=\"checkbox\" checked><label for=\"sk-estimator-id-1\" class=\"sk-toggleable__label sk-toggleable__label-arrow\">LinearRegression</label><div class=\"sk-toggleable__content\"><pre>LinearRegression()</pre></div></div></div></div></div>"
            ]
          },
          "metadata": {},
          "execution_count": 11
        }
      ]
    },
    {
      "cell_type": "markdown",
      "source": [
        "Scaling the Test Set"
      ],
      "metadata": {
        "id": "-hhX3RMOuHWW"
      }
    },
    {
      "cell_type": "code",
      "source": [
        "X_test[:,3:8]=sc.transform(X_test[:,3:8])"
      ],
      "metadata": {
        "id": "PxBnraD1-JOQ"
      },
      "execution_count": 12,
      "outputs": []
    },
    {
      "cell_type": "markdown",
      "source": [
        "Predicted values of Test Set"
      ],
      "metadata": {
        "id": "Msm8TtFBRu9I"
      }
    },
    {
      "cell_type": "code",
      "source": [
        "Y_pred=sc_y.inverse_transform((regressor.predict(X_test)).reshape(-1,1))"
      ],
      "metadata": {
        "id": "lQeLqniGRw2g"
      },
      "execution_count": 13,
      "outputs": []
    },
    {
      "cell_type": "code",
      "source": [
        "print(Y_pred)"
      ],
      "metadata": {
        "id": "z3OgCG9F2BHg",
        "outputId": "0249ebbc-1f5e-4081-a498-13421fc17157",
        "colab": {
          "base_uri": "https://localhost:8080/"
        }
      },
      "execution_count": 14,
      "outputs": [
        {
          "output_type": "stream",
          "name": "stdout",
          "text": [
            "[[ 3914654.65431523]\n",
            " [ 6136038.45388482]\n",
            " [ 4535106.97842372]\n",
            " [ 7220687.80398318]\n",
            " [ 2809902.28340628]\n",
            " [ 6932849.09692254]\n",
            " [ 3224755.53104289]\n",
            " [ 3242117.23083385]\n",
            " [ 3489749.89627333]\n",
            " [ 8181977.70819841]\n",
            " [ 6560029.43825352]\n",
            " [ 3685297.46233992]\n",
            " [ 3848862.94984422]\n",
            " [ 4518659.05230597]\n",
            " [ 4049893.15795007]\n",
            " [ 1960092.76732248]\n",
            " [ 4077306.36814632]\n",
            " [ 3704486.7094773 ]\n",
            " [ 3284150.81980144]\n",
            " [ 4615519.06166606]\n",
            " [ 5912163.90394877]\n",
            " [ 6358085.45647446]\n",
            " [ 4784567.19120961]\n",
            " [ 2681973.96915711]\n",
            " [ 5306331.95861161]\n",
            " [ 5661789.91748967]\n",
            " [ 5429691.40449474]\n",
            " [ 5554878.39772429]\n",
            " [ 5704737.28013046]\n",
            " [ 5824441.63132076]\n",
            " [ 3399286.3026257 ]\n",
            " [ 6480531.12868439]\n",
            " [ 7101897.22646609]\n",
            " [ 2925037.76623054]\n",
            " [ 4536934.52577014]\n",
            " [ 5244195.34883343]\n",
            " [ 5038596.27236155]\n",
            " [ 3748347.8457913 ]\n",
            " [ 2884831.72460937]\n",
            " [ 3966739.75368811]\n",
            " [ 7931603.72173931]\n",
            " [ 4876858.33220366]\n",
            " [ 6382757.34565109]\n",
            " [ 3544576.31666583]\n",
            " [ 3837897.66576572]\n",
            " [ 6395550.17707601]\n",
            " [ 4511348.86292031]\n",
            " [ 2706645.85833374]\n",
            " [ 4213458.64545437]\n",
            " [ 6470479.61827909]\n",
            " [ 4054462.02631611]\n",
            " [ 7050725.90076642]\n",
            " [ 2543080.37082943]\n",
            " [ 3045655.89109405]\n",
            " [ 3503456.50137145]\n",
            " [ 5141852.69743409]\n",
            " [ 7013261.18016488]\n",
            " [ 4133046.56221203]\n",
            " [ 2984433.05498909]\n",
            " [ 4333162.99664467]\n",
            " [ 5891147.10946498]\n",
            " [ 6775680.0251307 ]\n",
            " [ 3254910.06225877]\n",
            " [ 7101897.22646609]\n",
            " [ 2554045.65490793]\n",
            " [ 4959097.96279242]\n",
            " [ 6628562.46374415]\n",
            " [ 2535770.18144377]\n",
            " [ 3751089.16681093]\n",
            " [ 5119008.35560388]\n",
            " [ 4289301.86033067]\n",
            " [ 7299272.3398791 ]\n",
            " [ 5134542.50804843]\n",
            " [ 6015420.32902132]\n",
            " [ 4188786.75627774]\n",
            " [ 4660293.97165327]\n",
            " [ 2878435.30889691]\n",
            " [ 7402528.76495165]\n",
            " [ 2529373.76573131]\n",
            " [ 3777588.60333397]\n",
            " [ 4289301.86033067]\n",
            " [ 6099487.50695649]\n",
            " [ 5183886.28640168]\n",
            " [ 5376692.53144865]\n",
            " [ 3905516.91758314]\n",
            " [ 4211631.09810795]\n",
            " [ 4827514.55385041]\n",
            " [ 5172007.22864997]\n",
            " [ 3840638.98678535]\n",
            " [ 4404437.34315492]\n",
            " [ 3183635.71574851]\n",
            " [ 5766873.88990863]\n",
            " [ 3059362.49619217]\n",
            " [ 3695348.97274521]\n",
            " [ 4492159.61578293]\n",
            " [10284570.93025091]\n",
            " [ 3053879.85415292]\n",
            " [ 7151241.00481934]\n",
            " [ 4289301.86033067]\n",
            " [ 4443729.61110288]\n",
            " [ 6515254.52826631]\n",
            " [ 3370045.54508303]\n",
            " [ 4472970.36864555]\n",
            " [ 3353597.61896528]\n",
            " [ 7259066.29825793]\n",
            " [ 5254246.85923873]\n",
            " [ 4159545.99873508]\n",
            " [ 5092508.91908084]\n",
            " [ 6221019.4054932 ]\n",
            " [ 2603389.43326119]\n",
            " [ 2696594.34792844]\n",
            " [ 1982023.33547948]\n",
            " [ 2598820.56489515]\n",
            " [ 4644759.81920873]\n",
            " [ 3142515.90045414]\n",
            " [ 4504038.67353464]\n",
            " [ 6947469.47569387]\n",
            " [ 2608872.07530044]\n",
            " [ 4265543.74482725]\n",
            " [ 8342801.87468309]\n",
            " [ 2350274.12578246]\n",
            " [ 5098905.3347933 ]\n",
            " [ 2725835.10547111]\n",
            " [ 4881427.2005697 ]\n",
            " [ 2686542.83752315]\n",
            " [ 3197342.32084664]\n",
            " [ 7319375.36068969]\n",
            " [ 5014838.15685813]\n",
            " [ 5083371.18234876]\n",
            " [ 3748347.8457913 ]\n",
            " [ 4664862.84001932]\n",
            " [ 3158963.82657189]\n",
            " [ 5633462.93362021]\n",
            " [ 2608872.07530044]\n",
            " [ 4709637.75000653]\n",
            " [ 8382094.14263105]\n",
            " [ 4463832.63191347]\n",
            " [ 3013673.81253175]\n",
            " [ 4266457.51850046]\n",
            " [ 1971971.82507419]\n",
            " [ 4968235.6995245 ]\n",
            " [ 4946305.1313675 ]\n",
            " [ 6358999.23014767]\n",
            " [ 4864979.27445195]\n",
            " [ 6580132.4590641 ]\n",
            " [ 7229825.54071527]\n",
            " [ 4812894.17507907]\n",
            " [ 7341305.92884669]\n",
            " [ 6365395.64586013]\n",
            " [ 3798605.39781776]\n",
            " [ 5946887.30353069]\n",
            " [ 3293288.55653352]\n",
            " [ 2607958.30162723]\n",
            " [ 6846954.37164095]\n",
            " [ 5861906.35192231]\n",
            " [ 5670927.65422175]\n",
            " [ 9654980.86941033]\n",
            " [ 7607214.06775033]\n",
            " [ 4530538.11005768]\n",
            " [ 2931434.181943  ]\n",
            " [ 4154063.35669583]\n",
            " [ 3085861.93271522]\n",
            " [ 6264880.54180721]\n",
            " [ 6307827.904448  ]]\n"
          ]
        }
      ]
    },
    {
      "cell_type": "markdown",
      "source": [
        "Score of the Model"
      ],
      "metadata": {
        "id": "tKWsWsmhrLjj"
      }
    },
    {
      "cell_type": "code",
      "source": [
        "from sklearn.metrics import r2_score\n",
        "r2_score(Y_test,Y_pred)"
      ],
      "metadata": {
        "id": "eWl-RML2rXGP",
        "colab": {
          "base_uri": "https://localhost:8080/"
        },
        "outputId": "16936e25-2845-494b-bbda-1d9f824a75ac"
      },
      "execution_count": 15,
      "outputs": [
        {
          "output_type": "execute_result",
          "data": {
            "text/plain": [
              "0.7243995632116299"
            ]
          },
          "metadata": {},
          "execution_count": 15
        }
      ]
    }
  ]
}